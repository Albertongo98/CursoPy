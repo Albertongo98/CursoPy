{
 "cells": [
  {
   "attachments": {},
   "cell_type": "markdown",
   "metadata": {},
   "source": [
    "# **Ejercicios de funciones normales y tipo \"Lamda\"**"
   ]
  },
  {
   "attachments": {},
   "cell_type": "markdown",
   "metadata": {},
   "source": [
    "### Esta es una prueba de los pequeños conocimientos que eh adquirido en mi curso de pyhthon "
   ]
  },
  {
   "attachments": {},
   "cell_type": "markdown",
   "metadata": {},
   "source": [
    "Ejemplo 1: La funcion \"saludar\" va a saludarnos con un \"Hola programador\" y luego nos va a sumar 5+8, el resultado final tiene que ser: \n",
    "\n",
    "*\"Hola programador\" y un \"13\"*"
   ]
  },
  {
   "cell_type": "code",
   "execution_count": 6,
   "metadata": {},
   "outputs": [
    {
     "name": "stdout",
     "output_type": "stream",
     "text": [
      "Hola programador\n",
      "13\n"
     ]
    }
   ],
   "source": [
    "def  saludar ():\n",
    "    print (\"Hola programador\")\n",
    "    suma = 5+8 \n",
    "    print (suma)\n",
    "    pass\n",
    "\n",
    "saludar()"
   ]
  },
  {
   "attachments": {},
   "cell_type": "markdown",
   "metadata": {},
   "source": [
    "Ejemplo 2: Creamos una funcion llamada \"Saludar2\" va a hacer lo mismo que la anterior pero con una variacion... se le va a agregar un parametro en este caso el parametro se introduce despues de llamar a la funcion con \"()\""
   ]
  },
  {
   "cell_type": "code",
   "execution_count": 8,
   "metadata": {},
   "outputs": [
    {
     "name": "stdout",
     "output_type": "stream",
     "text": [
      "¡Hola Alberto espero que tengas un excelente dia!\n"
     ]
    }
   ],
   "source": [
    "def saludar2(nombre):\n",
    "    print (\"¡Hola\",nombre,\"espero que tengas un excelente dia!\")\n",
    "    \n",
    "#Llamar a la persona\n",
    "saludar2(\"Alberto\")"
   ]
  },
  {
   "attachments": {},
   "cell_type": "markdown",
   "metadata": {},
   "source": [
    " En el siguiente ejemplo vamos a crear una funcion y guardarla en una variable. La funcion va a multiplucarnos el numero que introduzcamos en el parametro de la funcion en este caso \"18\" y despues de esto la variable haga el llamado a la funcion, el resultado obtenido seria el doble del numero registrado en la funcion (36) junto a un mensaje descriptivo : *\"El doble de tu numero es: 36\"*"
   ]
  },
  {
   "cell_type": "code",
   "execution_count": 11,
   "metadata": {},
   "outputs": [
    {
     "name": "stdout",
     "output_type": "stream",
     "text": [
      "El doble de tu numero es: 36\n"
     ]
    }
   ],
   "source": [
    "def doble(num):\n",
    "    return num * 2\n",
    "\n",
    "#Llamo a la funcion y guardar resultado en una variable\n",
    "resultado = doble(18)\n",
    "\n",
    "#imprime el numero al doble\n",
    "print (\"El doble de tu numero es:\",resultado)"
   ]
  },
  {
   "attachments": {},
   "cell_type": "markdown",
   "metadata": {},
   "source": [
    "En el siguiente ejemplo vamos a calcular el area de un triangulo usando valores proporcionados por el usuario (base y altura del triangulo).\n",
    "Para esta funcion vamos a necesitar la formula para sacar el area de un triangulo la cual es *\"base por altura ente 2\"* "
   ]
  },
  {
   "cell_type": "code",
   "execution_count": 7,
   "metadata": {},
   "outputs": [
    {
     "name": "stdout",
     "output_type": "stream",
     "text": [
      "El area final de triangulo es: 22.5 cm\n"
     ]
    }
   ],
   "source": [
    "#Formula para calcular el area de un triangulo\n",
    "base = float(input(\"Dame el valor de la base en cm: \"))\n",
    "altura = float(input(\"Dame el valor de la altura en cm: \"))\n",
    "\n",
    "def AreaTriangulo(base,altura):\n",
    "    return (base * altura)/2\n",
    "\n",
    "#Llamar funcion\n",
    "AreaFinal = AreaTriangulo(base,altura)\n",
    "print(\"El area final de triangulo es:\", AreaFinal,\"cm\")"
   ]
  },
  {
   "attachments": {},
   "cell_type": "markdown",
   "metadata": {},
   "source": [
    "En este ultimo ejemplo hicimos una funcion de tipo \"lamda\" que es algo asi como hacer toda la funcion en una sola linea "
   ]
  },
  {
   "cell_type": "code",
   "execution_count": 2,
   "metadata": {},
   "outputs": [
    {
     "data": {
      "text/plain": [
       "8"
      ]
     },
     "execution_count": 2,
     "metadata": {},
     "output_type": "execute_result"
    }
   ],
   "source": [
    "\n",
    "#Funcion de tipo lamda\n",
    "suma =lambda x,y: x + y\n",
    "\n",
    "suma (3,5)"
   ]
  }
 ],
 "metadata": {
  "kernelspec": {
   "display_name": "Python 3",
   "language": "python",
   "name": "python3"
  },
  "language_info": {
   "codemirror_mode": {
    "name": "ipython",
    "version": 3
   },
   "file_extension": ".py",
   "mimetype": "text/x-python",
   "name": "python",
   "nbconvert_exporter": "python",
   "pygments_lexer": "ipython3",
   "version": "3.11.3"
  },
  "orig_nbformat": 4
 },
 "nbformat": 4,
 "nbformat_minor": 2
}
